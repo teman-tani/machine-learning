{
  "cells": [
    {
      "cell_type": "code",
      "execution_count": null,
      "metadata": {
        "id": "l2dvE1kd7Wty"
      },
      "outputs": [],
      "source": [
        "import pandas as pd\n",
        "import numpy as np\n",
        "from nltk.corpus import stopwords\n",
        "from sklearn.metrics.pairwise import linear_kernel\n",
        "from sklearn.feature_extraction.text import CountVectorizer\n",
        "from sklearn.feature_extraction.text import TfidfVectorizer\n",
        "from nltk.tokenize import RegexpTokenizer\n",
        "import re\n",
        "import string\n",
        "import random\n",
        "import matplotlib.pyplot as plt\n",
        "\n",
        "from PIL import Image\n",
        "import requests\n",
        "from io import BytesIO\n",
        "%matplotlib inline"
      ]
    },
    {
      "cell_type": "code",
      "execution_count": null,
      "metadata": {
        "id": "57pZDl0a7e8B"
      },
      "outputs": [],
      "source": [
        "df = pd.read_csv('merge_all_fix_4.csv')\n",
        "# merge_brown spot_leaf blast.csv"
      ]
    },
    {
      "cell_type": "markdown",
      "metadata": {
        "id": "zUAWHEFa18G5"
      },
      "source": [
        "# Eksploratory data analysis"
      ]
    },
    {
      "cell_type": "code",
      "execution_count": null,
      "metadata": {
        "colab": {
          "base_uri": "https://localhost:8080/",
          "height": 424
        },
        "id": "129CUud07kS_",
        "outputId": "b63ec482-ca54-4855-e2e7-ac45bc674d30"
      },
      "outputs": [
        {
          "output_type": "execute_result",
          "data": {
            "text/plain": [
              "      product_id                                       product_link  \\\n",
              "0  1653403927-69  https://www.tokopedia.com/arsyla-store27/filia...   \n",
              "1  1653404248-71  https://ta.tokopedia.com/promo/v1/clicks/8a-xg...   \n",
              "2  1653400654-63  https://www.tokopedia.com/mitratanibwi/fungisi...   \n",
              "3  1653400015-62  https://www.tokopedia.com/priagungjaya/fungisi...   \n",
              "4  1653397693-58  https://www.tokopedia.com/tokosuksestani/fungi...   \n",
              "\n",
              "     kegunaan                                               nama  Unnamed: 4  \\\n",
              "0  Leaf Blast  filia 525se 250ml fungisida obat hawar daun da...        32.0   \n",
              "1  Leaf Blast  DITHANE M-45 80 WP 200 GRAM KEMASAN PABRIK FUN...       154.0   \n",
              "2  Leaf Blast                        Fungisida FILIA 525SE 250ML         9.0   \n",
              "3  Leaf Blast                        fungisida FILIA 525SE 250ML         NaN   \n",
              "4  Leaf Blast  Fungisida sistemik FILIA 525SE penyakit blast ...         1.0   \n",
              "\n",
              "   rating   harga     berat            tempat  \\\n",
              "0     4.7  103000  300 Gram  Kab. Probolinggo   \n",
              "1     5.0   35000  300 Gram     Jakarta Barat   \n",
              "2     5.0  130000  350 Gram   Kab. Banyuwangi   \n",
              "3     NaN  127000  400 Gram       Kab. Bekasi   \n",
              "4     5.0   34000  150 Gram       Kab. Kediri   \n",
              "\n",
              "                                           image_src  \n",
              "0  https://images.tokopedia.net/img/cache/100-squ...  \n",
              "1  https://images.tokopedia.net/img/cache/100-squ...  \n",
              "2  https://images.tokopedia.net/img/cache/100-squ...  \n",
              "3  https://images.tokopedia.net/img/cache/100-squ...  \n",
              "4  https://images.tokopedia.net/img/cache/100-squ...  "
            ],
            "text/html": [
              "\n",
              "  <div id=\"df-a9c8eca4-b5cc-4bae-aeb0-0aee067c9030\">\n",
              "    <div class=\"colab-df-container\">\n",
              "      <div>\n",
              "<style scoped>\n",
              "    .dataframe tbody tr th:only-of-type {\n",
              "        vertical-align: middle;\n",
              "    }\n",
              "\n",
              "    .dataframe tbody tr th {\n",
              "        vertical-align: top;\n",
              "    }\n",
              "\n",
              "    .dataframe thead th {\n",
              "        text-align: right;\n",
              "    }\n",
              "</style>\n",
              "<table border=\"1\" class=\"dataframe\">\n",
              "  <thead>\n",
              "    <tr style=\"text-align: right;\">\n",
              "      <th></th>\n",
              "      <th>product_id</th>\n",
              "      <th>product_link</th>\n",
              "      <th>kegunaan</th>\n",
              "      <th>nama</th>\n",
              "      <th>Unnamed: 4</th>\n",
              "      <th>rating</th>\n",
              "      <th>harga</th>\n",
              "      <th>berat</th>\n",
              "      <th>tempat</th>\n",
              "      <th>image_src</th>\n",
              "    </tr>\n",
              "  </thead>\n",
              "  <tbody>\n",
              "    <tr>\n",
              "      <th>0</th>\n",
              "      <td>1653403927-69</td>\n",
              "      <td>https://www.tokopedia.com/arsyla-store27/filia...</td>\n",
              "      <td>Leaf Blast</td>\n",
              "      <td>filia 525se 250ml fungisida obat hawar daun da...</td>\n",
              "      <td>32.0</td>\n",
              "      <td>4.7</td>\n",
              "      <td>103000</td>\n",
              "      <td>300 Gram</td>\n",
              "      <td>Kab. Probolinggo</td>\n",
              "      <td>https://images.tokopedia.net/img/cache/100-squ...</td>\n",
              "    </tr>\n",
              "    <tr>\n",
              "      <th>1</th>\n",
              "      <td>1653404248-71</td>\n",
              "      <td>https://ta.tokopedia.com/promo/v1/clicks/8a-xg...</td>\n",
              "      <td>Leaf Blast</td>\n",
              "      <td>DITHANE M-45 80 WP 200 GRAM KEMASAN PABRIK FUN...</td>\n",
              "      <td>154.0</td>\n",
              "      <td>5.0</td>\n",
              "      <td>35000</td>\n",
              "      <td>300 Gram</td>\n",
              "      <td>Jakarta Barat</td>\n",
              "      <td>https://images.tokopedia.net/img/cache/100-squ...</td>\n",
              "    </tr>\n",
              "    <tr>\n",
              "      <th>2</th>\n",
              "      <td>1653400654-63</td>\n",
              "      <td>https://www.tokopedia.com/mitratanibwi/fungisi...</td>\n",
              "      <td>Leaf Blast</td>\n",
              "      <td>Fungisida FILIA 525SE 250ML</td>\n",
              "      <td>9.0</td>\n",
              "      <td>5.0</td>\n",
              "      <td>130000</td>\n",
              "      <td>350 Gram</td>\n",
              "      <td>Kab. Banyuwangi</td>\n",
              "      <td>https://images.tokopedia.net/img/cache/100-squ...</td>\n",
              "    </tr>\n",
              "    <tr>\n",
              "      <th>3</th>\n",
              "      <td>1653400015-62</td>\n",
              "      <td>https://www.tokopedia.com/priagungjaya/fungisi...</td>\n",
              "      <td>Leaf Blast</td>\n",
              "      <td>fungisida FILIA 525SE 250ML</td>\n",
              "      <td>NaN</td>\n",
              "      <td>NaN</td>\n",
              "      <td>127000</td>\n",
              "      <td>400 Gram</td>\n",
              "      <td>Kab. Bekasi</td>\n",
              "      <td>https://images.tokopedia.net/img/cache/100-squ...</td>\n",
              "    </tr>\n",
              "    <tr>\n",
              "      <th>4</th>\n",
              "      <td>1653397693-58</td>\n",
              "      <td>https://www.tokopedia.com/tokosuksestani/fungi...</td>\n",
              "      <td>Leaf Blast</td>\n",
              "      <td>Fungisida sistemik FILIA 525SE penyakit blast ...</td>\n",
              "      <td>1.0</td>\n",
              "      <td>5.0</td>\n",
              "      <td>34000</td>\n",
              "      <td>150 Gram</td>\n",
              "      <td>Kab. Kediri</td>\n",
              "      <td>https://images.tokopedia.net/img/cache/100-squ...</td>\n",
              "    </tr>\n",
              "  </tbody>\n",
              "</table>\n",
              "</div>\n",
              "      <button class=\"colab-df-convert\" onclick=\"convertToInteractive('df-a9c8eca4-b5cc-4bae-aeb0-0aee067c9030')\"\n",
              "              title=\"Convert this dataframe to an interactive table.\"\n",
              "              style=\"display:none;\">\n",
              "        \n",
              "  <svg xmlns=\"http://www.w3.org/2000/svg\" height=\"24px\"viewBox=\"0 0 24 24\"\n",
              "       width=\"24px\">\n",
              "    <path d=\"M0 0h24v24H0V0z\" fill=\"none\"/>\n",
              "    <path d=\"M18.56 5.44l.94 2.06.94-2.06 2.06-.94-2.06-.94-.94-2.06-.94 2.06-2.06.94zm-11 1L8.5 8.5l.94-2.06 2.06-.94-2.06-.94L8.5 2.5l-.94 2.06-2.06.94zm10 10l.94 2.06.94-2.06 2.06-.94-2.06-.94-.94-2.06-.94 2.06-2.06.94z\"/><path d=\"M17.41 7.96l-1.37-1.37c-.4-.4-.92-.59-1.43-.59-.52 0-1.04.2-1.43.59L10.3 9.45l-7.72 7.72c-.78.78-.78 2.05 0 2.83L4 21.41c.39.39.9.59 1.41.59.51 0 1.02-.2 1.41-.59l7.78-7.78 2.81-2.81c.8-.78.8-2.07 0-2.86zM5.41 20L4 18.59l7.72-7.72 1.47 1.35L5.41 20z\"/>\n",
              "  </svg>\n",
              "      </button>\n",
              "      \n",
              "  <style>\n",
              "    .colab-df-container {\n",
              "      display:flex;\n",
              "      flex-wrap:wrap;\n",
              "      gap: 12px;\n",
              "    }\n",
              "\n",
              "    .colab-df-convert {\n",
              "      background-color: #E8F0FE;\n",
              "      border: none;\n",
              "      border-radius: 50%;\n",
              "      cursor: pointer;\n",
              "      display: none;\n",
              "      fill: #1967D2;\n",
              "      height: 32px;\n",
              "      padding: 0 0 0 0;\n",
              "      width: 32px;\n",
              "    }\n",
              "\n",
              "    .colab-df-convert:hover {\n",
              "      background-color: #E2EBFA;\n",
              "      box-shadow: 0px 1px 2px rgba(60, 64, 67, 0.3), 0px 1px 3px 1px rgba(60, 64, 67, 0.15);\n",
              "      fill: #174EA6;\n",
              "    }\n",
              "\n",
              "    [theme=dark] .colab-df-convert {\n",
              "      background-color: #3B4455;\n",
              "      fill: #D2E3FC;\n",
              "    }\n",
              "\n",
              "    [theme=dark] .colab-df-convert:hover {\n",
              "      background-color: #434B5C;\n",
              "      box-shadow: 0px 1px 3px 1px rgba(0, 0, 0, 0.15);\n",
              "      filter: drop-shadow(0px 1px 2px rgba(0, 0, 0, 0.3));\n",
              "      fill: #FFFFFF;\n",
              "    }\n",
              "  </style>\n",
              "\n",
              "      <script>\n",
              "        const buttonEl =\n",
              "          document.querySelector('#df-a9c8eca4-b5cc-4bae-aeb0-0aee067c9030 button.colab-df-convert');\n",
              "        buttonEl.style.display =\n",
              "          google.colab.kernel.accessAllowed ? 'block' : 'none';\n",
              "\n",
              "        async function convertToInteractive(key) {\n",
              "          const element = document.querySelector('#df-a9c8eca4-b5cc-4bae-aeb0-0aee067c9030');\n",
              "          const dataTable =\n",
              "            await google.colab.kernel.invokeFunction('convertToInteractive',\n",
              "                                                     [key], {});\n",
              "          if (!dataTable) return;\n",
              "\n",
              "          const docLinkHtml = 'Like what you see? Visit the ' +\n",
              "            '<a target=\"_blank\" href=https://colab.research.google.com/notebooks/data_table.ipynb>data table notebook</a>'\n",
              "            + ' to learn more about interactive tables.';\n",
              "          element.innerHTML = '';\n",
              "          dataTable['output_type'] = 'display_data';\n",
              "          await google.colab.output.renderOutput(dataTable, element);\n",
              "          const docLink = document.createElement('div');\n",
              "          docLink.innerHTML = docLinkHtml;\n",
              "          element.appendChild(docLink);\n",
              "        }\n",
              "      </script>\n",
              "    </div>\n",
              "  </div>\n",
              "  "
            ]
          },
          "metadata": {},
          "execution_count": 27
        }
      ],
      "source": [
        "df.head()\n"
      ]
    },
    {
      "cell_type": "code",
      "execution_count": null,
      "metadata": {
        "id": "eN5UnAlb7ojX"
      },
      "outputs": [],
      "source": [
        "# rating distribution\n",
        "# df['rating'].value_counts().plot(x='genre', y='count', kind='bar', figsize=(10,5))"
      ]
    },
    {
      "cell_type": "code",
      "execution_count": null,
      "metadata": {
        "colab": {
          "base_uri": "https://localhost:8080/",
          "height": 387
        },
        "id": "9gvpqeXD9iJg",
        "outputId": "0b53d71b-2343-45d3-c88f-8d093cd40f4a"
      },
      "outputs": [
        {
          "output_type": "execute_result",
          "data": {
            "text/plain": [
              "<matplotlib.axes._subplots.AxesSubplot at 0x7f6e1914afd0>"
            ]
          },
          "metadata": {},
          "execution_count": 29
        },
        {
          "output_type": "display_data",
          "data": {
            "text/plain": [
              "<Figure size 720x360 with 1 Axes>"
            ],
            "image/png": "[encoded data removed]"
          },
          "metadata": {
            "needs_background": "light"
          }
        }
      ],
      "source": [
        "# berat distribution\n",
        "df['berat'].value_counts().plot(x='genre', y='count', kind='bar', figsize=(10,5))"
      ]
    },
    {
      "cell_type": "code",
      "execution_count": null,
      "metadata": {
        "id": "4mA2R_adKMwJ"
      },
      "outputs": [],
      "source": [
        "# kegunaan distribution\n",
        "# df['ulasan'].value_counts().plot(x='ulasan', y='count', kind='bar')"
      ]
    },
    {
      "cell_type": "code",
      "execution_count": null,
      "metadata": {
        "colab": {
          "base_uri": "https://localhost:8080/",
          "height": 392
        },
        "id": "S7C5SmDDdblC",
        "outputId": "a7fc882e-f4f5-4c20-ec2c-28f73199afee"
      },
      "outputs": [
        {
          "output_type": "execute_result",
          "data": {
            "text/plain": [
              "<matplotlib.axes._subplots.AxesSubplot at 0x7f6e18f14610>"
            ]
          },
          "metadata": {},
          "execution_count": 31
        },
        {
          "output_type": "display_data",
          "data": {
            "text/plain": [
              "<Figure size 432x288 with 1 Axes>"
            ],
            "image/png": "[encoded data removed]"
          },
          "metadata": {
            "needs_background": "light"
          }
        }
      ],
      "source": [
        "# kegunaan tempat\n",
        "df['tempat'].value_counts().plot(x='tempat', y='count', kind='bar')"
      ]
    },
    {
      "cell_type": "code",
      "execution_count": null,
      "metadata": {
        "colab": {
          "base_uri": "https://localhost:8080/",
          "height": 560
        },
        "id": "t8CuwP3xWmgb",
        "outputId": "e3e34744-bdf0-48b0-8ec9-6ab61a4ae7a5"
      },
      "outputs": [
        {
          "output_type": "execute_result",
          "data": {
            "text/plain": [
              "<matplotlib.axes._subplots.AxesSubplot at 0x7f6e191f3f50>"
            ]
          },
          "metadata": {},
          "execution_count": 32
        },
        {
          "output_type": "display_data",
          "data": {
            "text/plain": [
              "<Figure size 1080x504 with 1 Axes>"
            ],
            "image/png": "[encoded data removed]"
          },
          "metadata": {
            "needs_background": "light"
          }
        }
      ],
      "source": [
        "#Converting text descriptions into vectors using TF-IDF using Bigram\n",
        "tf = TfidfVectorizer(ngram_range=(2, 2), stop_words='english', lowercase = False)\n",
        "tfidf_matrix = tf.fit_transform(df['tempat'])\n",
        "total_words = tfidf_matrix.sum(axis=0) \n",
        "#Finding the word frequency\n",
        "freq = [(word, total_words[0, idx]) for word, idx in tf.vocabulary_.items()]\n",
        "freq =sorted(freq, key = lambda x: x[1], reverse=True)\n",
        "#converting into dataframe \n",
        "bigram = pd.DataFrame(freq)\n",
        "bigram.rename(columns = {0:'bigram', 1: 'count'}, inplace = True) \n",
        "#Taking first 20 records\n",
        "bigram = bigram.head(20)\n",
        "\n",
        "#Plotting the bigram distribution\n",
        "bigram.plot(x ='bigram', y='count', kind = 'bar', title = \"Bigram disribution for the top 20 words in the Pesticide Name\", figsize = (15,7), )"
      ]
    },
    {
      "cell_type": "code",
      "execution_count": null,
      "metadata": {
        "colab": {
          "base_uri": "https://localhost:8080/"
        },
        "id": "BisoDtWLVRba",
        "outputId": "cb3006ed-eb39-4f13-de59-d44dc986bd3a"
      },
      "outputs": [
        {
          "output_type": "stream",
          "name": "stdout",
          "text": [
            "[nltk_data] Downloading package stopwords to /root/nltk_data...\n",
            "[nltk_data]   Package stopwords is already up-to-date!\n"
          ]
        },
        {
          "output_type": "execute_result",
          "data": {
            "text/plain": [
              "True"
            ]
          },
          "metadata": {},
          "execution_count": 33
        }
      ],
      "source": [
        "import nltk\n",
        "nltk.download('stopwords')"
      ]
    },
    {
      "cell_type": "code",
      "execution_count": null,
      "metadata": {
        "id": "vEZ1H7bYVF0L"
      },
      "outputs": [],
      "source": [
        "# # Function for removing NonAscii characters\n",
        "def _removeNonAscii(s):\n",
        "    return \"\".join(i for i in s if  ord(i)<128)\n",
        "\n",
        "# # Function for converting into lower case\n",
        "# def make_lower_case(text):\n",
        "#     return text.lower()\n",
        "\n",
        "# Function for removing stop words\n",
        "def remove_stop_words(text):\n",
        "    text = text.split()\n",
        "    stops = set(stopwords.words(\"english\"))\n",
        "    text = [w for w in text if not w in stops]\n",
        "    text = \" \".join(text)\n",
        "    return text\n",
        "\n",
        "# Function for removing punctuation\n",
        "def remove_punctuation(text):\n",
        "    tokenizer = RegexpTokenizer(r'\\w+')\n",
        "    text = tokenizer.tokenize(text)\n",
        "    text = \" \".join(text)\n",
        "    return text\n",
        "\n",
        "# Function for removing the html tags\n",
        "def remove_html(text):\n",
        "    html_pattern = re.compile('<.*?>')\n",
        "    return html_pattern.sub(r'', text)\n",
        "\n",
        "# Applying all the functions in description and storing as a cleaned_desc\n",
        "df['cleaned_desc'] = df['nama'].apply(_removeNonAscii)\n",
        "# df['cleaned_desc'] = df.cleaned_desc.apply(func = make_lower_case)\n",
        "df['cleaned_desc'] = df.cleaned_desc.apply(func = remove_stop_words)\n",
        "df['cleaned_desc'] = df.cleaned_desc.apply(func=remove_punctuation)\n",
        "df['cleaned_desc'] = df.cleaned_desc.apply(func=remove_html)"
      ]
    },
    {
      "cell_type": "code",
      "source": [
        "def print_description_clean(index):\n",
        "    example = df[df.index == index][['cleaned_desc', 'nama', 'tempat']].values[0]\n",
        "    # print(example)\n",
        "    if len(example) > 0:\n",
        "        print(example[0])\n",
        "        print('Nama:', example[1])\n",
        "        print('Alamat:', example[2])\n",
        "print_description_clean(111)\n",
        "print_description_clean(14)"
      ],
      "metadata": {
        "colab": {
          "base_uri": "https://localhost:8080/"
        },
        "id": "XbmWz3draebG",
        "outputId": "e5b3c516-07c0-4104-cffd-eb213eddfa54"
      },
      "execution_count": null,
      "outputs": [
        {
          "output_type": "stream",
          "name": "stdout",
          "text": [
            "Insektisida sankill 590 EC 400 ml Obat pembasmi walang sangit\n",
            "Nama: Insektisida sankill 590 EC 400 ml || Obat pembasmi walang sangit\n",
            "Alamat: Kab. Jember\n",
            "Filia 525SE 250ml Obat Hawar Daun dan Blast ORI\n",
            "Nama: Filia 525SE 250ml Obat Hawar Daun dan Blast ORI\n",
            "Alamat: Jakarta Selatan\n"
          ]
        }
      ]
    },
    {
      "cell_type": "code",
      "source": [
        "df['cleaned_desc']"
      ],
      "metadata": {
        "colab": {
          "base_uri": "https://localhost:8080/"
        },
        "id": "40vGPjl_6pFc",
        "outputId": "6c9de53a-a367-4250-8455-8222cd89ec96"
      },
      "execution_count": null,
      "outputs": [
        {
          "output_type": "execute_result",
          "data": {
            "text/plain": [
              "0      filia 525se 250ml fungisida obat hawar daun da...\n",
              "1      DITHANE M 45 80 WP 200 GRAM KEMASAN PABRIK FUN...\n",
              "2                            Fungisida FILIA 525SE 250ML\n",
              "3                            fungisida FILIA 525SE 250ML\n",
              "4      Fungisida sistemik FILIA 525SE penyakit blast ...\n",
              "                             ...                        \n",
              "414    obat pertanian pembunuh bakteri BAKTERISIDA AG...\n",
              "415    Termurah Agrept 20 Wp 500 Gram Obat Pertanian ...\n",
              "416    Promo Agrept Anti Bakteri Tanaman 1 Dus isi 50...\n",
              "417    AGREPT 20 Wp Bakterisida Membasmi Layu Tanaman...\n",
              "418    Bakterisida Agrept 20wp 50gr mengatasi Layu Ta...\n",
              "Name: cleaned_desc, Length: 419, dtype: object"
            ]
          },
          "metadata": {},
          "execution_count": 36
        }
      ]
    },
    {
      "cell_type": "markdown",
      "metadata": {
        "id": "yhS5YdfS3Pcg"
      },
      "source": [
        "## reccomendations based on kegunaan and nama"
      ]
    },
    {
      "cell_type": "code",
      "execution_count": null,
      "metadata": {
        "id": "QxBow8yf2pdR"
      },
      "outputs": [],
      "source": [
        "from sklearn.metrics.pairwise import cosine_similarity  \n",
        "def recommend(nama, kegunaan):\n",
        "  data = df.loc[df['kegunaan'] == kegunaan]  \n",
        "  # return data\n",
        "  data.reset_index(level = 0, inplace = True) \n",
        "  # return data\n",
        "  # place_name = data['nama']\n",
        "  # return place_name\n",
        "    # Convert the index into series\n",
        "  indices = pd.Series(data.index, index = data['nama'])\n",
        "  # return indices\n",
        "    #Converting the place nama into vectors and used bigram\n",
        "  tf = TfidfVectorizer(analyzer='word', ngram_range=(2, 2), min_df = 1, stop_words='english')\n",
        "  tfidf_matrix = tf.fit_transform(data['nama'])\n",
        "  # return tfidf_matrix\n",
        "  # freq = [word for word, idx in tf.vocabulary_.items()]\n",
        "  # indices = pd.Series(data.index, index = freq)\n",
        "  # return freq\n",
        "    # Calculating the similarity measures based on Cosine Similarity\n",
        "  sg = cosine_similarity(tfidf_matrix, tfidf_matrix)\n",
        "  # return sg\n",
        "    # Get the index corresponding to place name\n",
        "\n",
        "  idx = indices[nama] # Get the pairwsie similarity scores \n",
        "  # return idx\n",
        "  sig = list(enumerate(sg[idx]))# Sort the names\n",
        "  # return sig\n",
        "  sig = sorted(sig, key=lambda x: x[1], reverse=True)# Scores of the 5 most similar books \n",
        "  # return sig\n",
        "\n",
        "  sig = sig[0:10]# Book indicies\n",
        "  tourist_indices = [i[0] for i in sig]\n",
        "   \n",
        "  #   # Top 5 tourist recommendation\n",
        "  rec = data[['cleaned_desc', 'kegunaan', 'tempat','berat','image_src']].iloc[tourist_indices]\n",
        "  \n",
        "  print(rec)     \n",
        "  # for i in rec['image-src']:\n",
        "  #   response = requests.get(i)\n",
        "  #   img = Image.open(BytesIO(response.content))\n",
        "  #   plt.figure()\n",
        "  #   print(plt.imshow(img))"
      ]
    },
    {
      "cell_type": "code",
      "source": [
        "recommend('Pupuk Sidafur 3 GR', 'Tungro')\n"
      ],
      "metadata": {
        "colab": {
          "base_uri": "https://localhost:8080/"
        },
        "id": "-UhBhi80ypL2",
        "outputId": "07b9b20e-461a-4f26-f2a7-e6adacddfce0"
      },
      "execution_count": null,
      "outputs": [
        {
          "output_type": "stream",
          "name": "stdout",
          "text": [
            "                                     cleaned_desc kegunaan         tempat  \\\n",
            "29                             Pupuk Sidafur 3 GR   Tungro  Jakarta Barat   \n",
            "30  Hobi Koleksi Berkebun Pupuk Sidafur 3 GR X 07   Tungro  Jakarta Timur   \n",
            "10            SIDAFUR 3 GR BERAT 2 KG INSEKTISIDA   Tungro  Jakarta Barat   \n",
            "17            Sidafur 3 Gr Berat 2 Kg Insektisida   Tungro  Jakarta Barat   \n",
            "20            SIDAFUR 3 GR BERAT 2 KG INSEKTISIDA   Tungro  Jakarta Barat   \n",
            "45            SIDAFUR 3 GR BERAT 2 KG INSEKTISIDA   Tungro  Jakarta Barat   \n",
            "22                             AI189 Sidafur 3 GR   Tungro  Kota Surabaya   \n",
            "36     SIDAFUR 3 GR 2 KG INSEKTISIDA Karbofuran 3   Tungro  Kab. Ponorogo   \n",
            "26         INSEKTISIDA SIDAFUR 3 GR 2 KG TERLARIS   Tungro    Kab. Bekasi   \n",
            "52         INSEKTISIDA SIDAFUR 3 GR 2 KG TERLARIS   Tungro  Jakarta Barat   \n",
            "\n",
            "         berat                                          image_src  \n",
            "29  2.100 Gram  https://images.tokopedia.net/img/cache/100-squ...  \n",
            "30  2.100 Gram  https://images.tokopedia.net/img/cache/100-squ...  \n",
            "10  2.100 Gram  https://images.tokopedia.net/img/cache/100-squ...  \n",
            "17    750 Gram  https://images.tokopedia.net/img/cache/100-squ...  \n",
            "20  2.100 Gram  https://images.tokopedia.net/img/cache/100-squ...  \n",
            "45    980 Gram  https://images.tokopedia.net/img/cache/100-squ...  \n",
            "22    440 Gram  https://images.tokopedia.net/img/cache/100-squ...  \n",
            "36  2.200 Gram  https://images.tokopedia.net/img/cache/100-squ...  \n",
            "26    400 Gram  https://images.tokopedia.net/img/cache/100-squ...  \n",
            "52    400 Gram  https://images.tokopedia.net/img/cache/100-squ...  \n"
          ]
        }
      ]
    },
    {
      "cell_type": "code",
      "source": [
        "\n",
        "recommend('Bakterisida Agrept 20 WP 50 Gram', 'Blight')\n"
      ],
      "metadata": {
        "colab": {
          "base_uri": "https://localhost:8080/"
        },
        "id": "rJz_iQ8uyyaY",
        "outputId": "b39fca68-2534-4119-85e1-2b71a24a7569"
      },
      "execution_count": null,
      "outputs": [
        {
          "output_type": "stream",
          "name": "stdout",
          "text": [
            "                                         cleaned_desc kegunaan  \\\n",
            "31                   Bakterisida Agrept 20 WP 50 Gram   Blight   \n",
            "24  Bakterisida AGREPT 20 WP 50 Gram Obat Pertania...   Blight   \n",
            "13  AGREPT 20 WP 50 Gram Obat Pertanian Pembunuh B...   Blight   \n",
            "16                           Bakterisida AGREPT 20 WP   Blight   \n",
            "29                           bakterisida agrept 20 wp   Blight   \n",
            "37      Agrept 20 WP 50 gram Pembasmi Bakteri Tanaman   Blight   \n",
            "46  AGREPT 20 WP 50 GRAM BAKTERISIDA Streptomisin ...   Blight   \n",
            "19      Agrept 20 wp Bakterisida Anti Bakteri 50 gram   Blight   \n",
            "39      Agrept 20 wp Bakterisida Anti Bakteri 50 gram   Blight   \n",
            "47                   pupuk bakterisida AGREPT 50 gram   Blight   \n",
            "\n",
            "             tempat     berat  \\\n",
            "31       Kab. Bogor  100 Gram   \n",
            "24      Kab. Blitar   55 Gram   \n",
            "13      Kab. Blitar  167 Gram   \n",
            "16    Kab. Magelang  100 Gram   \n",
            "29  Jakarta Selatan   50 Gram   \n",
            "37    Jakarta Utara  100 Gram   \n",
            "46    Kab. Ponorogo   80 Gram   \n",
            "19     Kab. Bandung  100 Gram   \n",
            "39     Kab. Bandung  100 Gram   \n",
            "47   Kota Pontianak   50 Gram   \n",
            "\n",
            "                                            image_src  \n",
            "31  https://images.tokopedia.net/img/cache/100-squ...  \n",
            "24  https://images.tokopedia.net/img/cache/100-squ...  \n",
            "13  https://images.tokopedia.net/img/cache/100-squ...  \n",
            "16  https://images.tokopedia.net/img/cache/100-squ...  \n",
            "29  https://images.tokopedia.net/img/cache/100-squ...  \n",
            "37  https://images.tokopedia.net/img/cache/100-squ...  \n",
            "46  https://images.tokopedia.net/img/cache/100-squ...  \n",
            "19  https://images.tokopedia.net/img/cache/100-squ...  \n",
            "39  https://images.tokopedia.net/img/cache/100-squ...  \n",
            "47  https://images.tokopedia.net/img/cache/100-squ...  \n"
          ]
        }
      ]
    },
    {
      "cell_type": "code",
      "source": [
        ""
      ],
      "metadata": {
        "id": "VaAr7HfYlubA"
      },
      "execution_count": null,
      "outputs": []
    },
    {
      "cell_type": "markdown",
      "source": [
        "## convert to pickle\n"
      ],
      "metadata": {
        "id": "KljYFQZBXwhs"
      }
    },
    {
      "cell_type": "code",
      "source": [
        "import pickle"
      ],
      "metadata": {
        "id": "dl9p7JNVX0Gr"
      },
      "execution_count": null,
      "outputs": []
    },
    {
      "cell_type": "code",
      "source": [
        "# data = df.loc[df['kegunaan'] == 'Leaf Blast']  \n",
        "# data.reset_index(level = 0, inplace = True)"
      ],
      "metadata": {
        "id": "43ncXBJd3Pvq"
      },
      "execution_count": null,
      "outputs": []
    },
    {
      "cell_type": "code",
      "source": [
        "pickle.dump(df,open(\"recommend_data.pkl\",\"wb\"))\n"
      ],
      "metadata": {
        "id": "FIAmcpD_X3zd"
      },
      "execution_count": null,
      "outputs": []
    },
    {
      "cell_type": "code",
      "source": [
        "# np.array(data['nama'])"
      ],
      "metadata": {
        "id": "vPK8DPFU36uC"
      },
      "execution_count": null,
      "outputs": []
    },
    {
      "cell_type": "code",
      "source": [
        "tf = TfidfVectorizer(analyzer='word', ngram_range=(2,2), stop_words='english')\n",
        "tfidf_matrix = tf.fit_transform(df['nama'])\n",
        "sg = cosine_similarity(tfidf_matrix, tfidf_matrix)\n",
        "\n",
        "pickle.dump(sg,open(\"similarity.pkl\",\"wb\"))"
      ],
      "metadata": {
        "id": "gsdicKRT3opq"
      },
      "execution_count": null,
      "outputs": []
    }
  ],
  "metadata": {
    "colab": {
      "collapsed_sections": [],
      "name": " pesticide recommendation system.ipynb",
      "provenance": []
    },
    "kernelspec": {
      "display_name": "Python 3",
      "name": "python3"
    },
    "language_info": {
      "name": "python"
    }
  },
  "nbformat": 4,
  "nbformat_minor": 0
}